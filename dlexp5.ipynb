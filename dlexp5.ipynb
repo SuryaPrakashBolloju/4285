{
  "nbformat": 4,
  "nbformat_minor": 0,
  "metadata": {
    "colab": {
      "provenance": [],
      "authorship_tag": "ABX9TyPhk8bMfCH8v0EtlWsOALWX",
      "include_colab_link": true
    },
    "kernelspec": {
      "name": "python3",
      "display_name": "Python 3"
    },
    "language_info": {
      "name": "python"
    }
  },
  "cells": [
    {
      "cell_type": "markdown",
      "metadata": {
        "id": "view-in-github",
        "colab_type": "text"
      },
      "source": [
        "<a href=\"https://colab.research.google.com/github/SuryaPrakashBolloju/4285/blob/main/dlexp5.ipynb\" target=\"_parent\"><img src=\"https://colab.research.google.com/assets/colab-badge.svg\" alt=\"Open In Colab\"/></a>"
      ]
    },
    {
      "cell_type": "code",
      "execution_count": null,
      "metadata": {
        "id": "9te5IqnR6qAU"
      },
      "outputs": [],
      "source": [
        "import numpy as np\n",
        "import random\n",
        "import tensorflow as tf\n",
        "from tensorflow import keras\n",
        "from tensorflow.keras.datasets import mnist\n",
        "from tensorflow.math import confusion_matrix\n",
        "import matplotlib.pyplot as plt\n",
        "\n",
        "# Load dataset\n",
        "(X_train, Y_train), (X_test, Y_test) = mnist.load_data()\n",
        "\n",
        "# Print dataset shapes\n",
        "print(f'Train: X={X_train.shape}, Y={Y_train.shape}')\n",
        "print(f'Test: X={X_test.shape}, Y={Y_test.shape}')\n",
        "\n",
        "# Display some images\n",
        "plt.figure(figsize=(8,8))\n",
        "for i in range(9):\n",
        "    plt.subplot(3, 3, i+1)\n",
        "    plt.imshow(X_train[i], cmap='gray')\n",
        "    plt.axis('off')\n",
        "plt.show()\n",
        "\n",
        "# Normalize dataset\n",
        "X_train = X_train / 255.0\n",
        "X_test = X_test / 255.0\n",
        "\n",
        "# Build the model\n",
        "model = keras.Sequential([\n",
        "    keras.layers.Flatten(input_shape=(28, 28)),\n",
        "    keras.layers.Dense(50, activation='relu'),\n",
        "    keras.layers.Dense(50, activation='relu'),\n",
        "    keras.layers.Dense(10, activation='softmax')  # Changed to softmax\n",
        "])\n",
        "\n",
        "# Compile the model\n",
        "model.compile(optimizer='adam',\n",
        "              loss='sparse_categorical_crossentropy',\n",
        "              metrics=['accuracy'])\n",
        "\n",
        "# Train the model\n",
        "model.fit(X_train, Y_train, epochs=10, validation_data=(X_test, Y_test))\n",
        "\n",
        "# Random sample prediction\n",
        "INDEX = random.randint(0, Y_test.shape[0] - 1)\n",
        "actual = Y_test[INDEX]\n",
        "pred = np.argmax(model.predict(np.array([X_test[INDEX]]))[0])\n",
        "\n",
        "# Display prediction\n",
        "plt.imshow(X_test[INDEX], cmap='gray')\n",
        "plt.title(f'Actual: {actual}, Predicted: {pred}')\n",
        "plt.show()\n",
        "\n"
      ]
    }
  ]
}